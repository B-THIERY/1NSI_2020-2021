{
 "cells": [
  {
   "cell_type": "markdown",
   "metadata": {},
   "source": [
    "# [Binaire-Le_BN_pour_coder-Complet](Binaire-Le_BN_pour_coder-Complet.ipynb)\n",
    "\n",
    "\n",
    "| dec\\bin | $128$ | $64$  | $32$  | $16$  |  $8$  |  $4$  |  $2$  |  $1$  |\n",
    "|---------|:-----:|:-----:|:-----:|:-----:|:-----:|:-----:|:-----:|:-----:|\n",
    "| $1$     |  $0$  |  $0$  |  $0$  |  $0$  |  $0$  |  $0$  |  $0$  |  $1$  |\n",
    "| $2$     |  $0$  |  $0$  |  $0$  |  $0$  |  $0$  |  $0$  |  $1$  |  $0$  |\n",
    "| $3$     |  $0$  |  $0$  |  $0$  |  $0$  |  $0$  |  $0$  |  $1$  |  $1$  |\n",
    "| $4$     |  $0$  |  $0$  |  $0$  |  $0$  |  $0$  |  $1$  |  $0$  |  $0$  |\n",
    "| $5$     |  $0$  |  $0$  |  $0$  |  $0$  |  $0$  |  $1$  |  $0$  |  $1$  |\n",
    "| $6$     |  $0$  |  $0$  |  $0$  |  $0$  |  $0$  |  $1$  |  $1$  |  $0$  |\n",
    "| $7$     |  $0$  |  $0$  |  $0$  |  $0$  |  $0$  |  $1$  |  $1$  |  $1$  |\n",
    "| $8$     |  $0$  |  $0$  |  $0$  |  $0$  |  $1$  |  $0$  |  $0$  |  $0$  |\n",
    "| $9$     |  $0$  |  $0$  |  $0$  |  $0$  |  $1$  |  $0$  |  $0$  |  $1$  |\n",
    "| $10$    |  $0$  |  $0$  |  $0$  |  $0$  |  $1$  |  $0$  |  $1$  |  $0$  |\n",
    "| $11$    |  $0$  |  $0$  |  $0$  |  $0$  |  $1$  |  $0$  |  $1$  |  $1$  |\n",
    "| $12$    |  $0$  |  $0$  |  $0$  |  $0$  |  $1$  |  $1$  |  $0$  |  $0$  |\n",
    "| $13$    |  $0$  |  $0$  |  $0$  |  $0$  |  $1$  |  $1$  |  $0$  |  $1$  |\n",
    "| $14$    |  $0$  |  $0$  |  $0$  |  $0$  |  $1$  |  $1$  |  $1$  |  $0$  |\n",
    "| $15$    |  $0$  |  $0$  |  $0$  |  $0$  |  $1$  |  $1$  |  $1$  |  $1$  |\n",
    "| $16$    |  $0$  |  $0$  |  $0$  |  $1$  |  $0$  |  $0$  |  $0$  |  $0$  |\n",
    "| $20$    |  $0$  |  $0$  |  $0$  |  $1$  |  $0$  |  $1$  |  $0$  |  $0$  |\n",
    "| $50$    |  $0$  |  $0$  |  $1$  |  $1$  |  $0$  |  $0$  |  $1$  |  $0$  |\n",
    "| $100$   |  $0$  |  $1$  |  $1$  |  $0$  |  $0$  |  $1$  |  $0$  |  $0$  |\n",
    "| $200$   |  $1$  |  $1$  |  $0$  |  $0$  |  $1$  |  $0$  |  $0$  |  $0$  |\n",
    "| $255$   |  $1$  |  $1$  |  $1$  |  $1$  |  $1$  |  $1$  |  $1$  |  $1$  |\n",
    "\n",
    "<h3 class='fa fa-code' style=\"color: purple\"> A coder vous même :</h3>\n",
    "\n",
    "- Afin de vérifier votre travail, dans les cellules suivantes, réalisez progressivement un script qui renvoie la représentation binaire des nombres entiers positifs allant de $0$ à $255$.*\n",
    "\n",
    "- Commencez par chercher de l'aide quant à la fonction **`bin()`**...*\n",
    "\n",
    "- Finalisez votre programme pour qu'il génère un tableau comme ci-dessus au format Markdown..."
   ]
  },
  {
   "cell_type": "code",
   "execution_count": 1,
   "metadata": {},
   "outputs": [
    {
     "name": "stdout",
     "output_type": "stream",
     "text": [
      "Help on built-in function bin in module builtins:\n",
      "\n",
      "bin(number, /)\n",
      "    Return the binary representation of an integer.\n",
      "    \n",
      "    >>> bin(2796202)\n",
      "    '0b1010101010101010101010'\n",
      "\n"
     ]
    }
   ],
   "source": [
    "help('bin')"
   ]
  },
  {
   "cell_type": "code",
   "execution_count": null,
   "metadata": {},
   "outputs": [],
   "source": []
  },
  {
   "cell_type": "code",
   "execution_count": null,
   "metadata": {},
   "outputs": [],
   "source": []
  },
  {
   "cell_type": "markdown",
   "metadata": {},
   "source": [
    "# [Programmation-Python3-Quelques_bases](Programmation-Python3-Quelques_bases.ipynb)\n",
    "\n",
    "## Autres boucles avec while (TANT QUE ou JUSQU'A) :\n",
    "\n",
    "<h3 class='fa fa-graduation-cap' style=\"color: MediumSeaGreen\">France IOI - Département d'architecture : construction d'une pyramide : </h3>\n",
    "\n",
    "[![schema.png](http://data.france-ioi.org/Task/5a7caeef98dbbc5f488ba7561008ddf6/schema.png)](http://www.france-ioi.org/algo/task.php?idChapter=649&idTask=2052)\n",
    "\n",
    "Coller ici le code de votre programme qui a permis sur [France IOI](http://www.france-ioi.org/algo/task.php?idChapter=649&idTask=2052) de construire la plus grande pyramide possible :\n",
    "\n",
    "Votre programme doit d'abord lire un entier : le nombre maximum de pierres dont pourra être composée la pyramide. Il devra ensuite calculer et afficher un entier : la hauteur de la plus grande pyramide qui pourra être construite, ainsi que le nombre de pierres qui sera nécessaire."
   ]
  },
  {
   "cell_type": "code",
   "execution_count": null,
   "metadata": {},
   "outputs": [],
   "source": []
  },
  {
   "cell_type": "markdown",
   "metadata": {},
   "source": [
    "##  Les fonctions :\n",
    "\n",
    "<h3 class='fa fa-graduation-cap' style=\"color: MediumSeaGreen\">France IOI - Formes creuses : </h3>\n",
    "\n",
    "Coller ici le code de votre programme qui a permis sur [France IOI](http://www.france-ioi.org/algo/task.php?idChapter=509&idTask=455) d'afficher davantage de dessins pour vos spectateurs :\n",
    "\n",
    "**Ce que doit faire votre programme :**\n",
    "\n",
    "Écrivez un programme qui affiche une ligne de « X », un rectangle de « # », et un triangle de « @ ». Les deux formes doivent être creuses (remplies avec des espaces).\n",
    "\n",
    "L'entrée comporte quatre entiers, un par ligne :\n",
    "\n",
    "le nombre de « X » de la ligne à afficher ;\n",
    "le nombre de lignes du rectangle de « # » ;\n",
    "le nombre de colonnes du rectangle ;\n",
    "le nombre de lignes du triangle de « @ ».\n",
    "\n",
    "Vous devez afficher les trois formes successivement, avec une ligne blanche entre chaque forme, comme le montre l'exemple.\n",
    "\n",
    "Votre objectif doit être d'obtenir le code source le plus simple et clair possible, en le décomposant en fonctions.\n",
    "\n",
    "**Exemple**\n",
    "\n",
    "entrée :\n",
    "\n",
    "```\n",
    "15\n",
    "5\n",
    "12\n",
    "6\n",
    "\n",
    "```\n",
    "\n",
    "sortie :\n",
    "\n",
    "```\n",
    "XXXXXXXXXXXXXXX\n",
    "\n",
    "############\n",
    "#          #\n",
    "#          #\n",
    "#          #\n",
    "############\n",
    "\n",
    "@\n",
    "@@\n",
    "@ @\n",
    "@  @\n",
    "@   @\n",
    "@@@@@@\n",
    "\n",
    "```\n",
    "\n",
    "**Commentaires**\n",
    "\n",
    "Attention : le nombre de lignes ou de colonnes peut être égal à 1.\n"
   ]
  },
  {
   "cell_type": "code",
   "execution_count": null,
   "metadata": {},
   "outputs": [],
   "source": []
  },
  {
   "cell_type": "markdown",
   "metadata": {},
   "source": [
    "# [ASCII_UTF8-Le_BN_pour_coder_les_caracteres](ASCII_UTF8-Le_BN_pour_coder_les_caracteres.ipynb)\n",
    "\n",
    "# [Chaine-Le_BN_pour_traiter_les_textes_en_machine](Chaine-Le_BN_pour_traiter_les_textes_en_machine.ipynb)"
   ]
  }
 ],
 "metadata": {
  "kernelspec": {
   "display_name": "Python 3",
   "language": "python",
   "name": "python3"
  },
  "language_info": {
   "codemirror_mode": {
    "name": "ipython",
    "version": 3
   },
   "file_extension": ".py",
   "mimetype": "text/x-python",
   "name": "python",
   "nbconvert_exporter": "python",
   "pygments_lexer": "ipython3",
   "version": "3.7.3"
  },
  "toc": {
   "base_numbering": 1,
   "nav_menu": {},
   "number_sections": true,
   "sideBar": true,
   "skip_h1_title": false,
   "title_cell": "Table of Contents",
   "title_sidebar": "Contents",
   "toc_cell": false,
   "toc_position": {},
   "toc_section_display": true,
   "toc_window_display": false
  },
  "varInspector": {
   "cols": {
    "lenName": 16,
    "lenType": 16,
    "lenVar": 40
   },
   "kernels_config": {
    "python": {
     "delete_cmd_postfix": "",
     "delete_cmd_prefix": "del ",
     "library": "var_list.py",
     "varRefreshCmd": "print(var_dic_list())"
    },
    "r": {
     "delete_cmd_postfix": ") ",
     "delete_cmd_prefix": "rm(",
     "library": "var_list.r",
     "varRefreshCmd": "cat(var_dic_list()) "
    }
   },
   "types_to_exclude": [
    "module",
    "function",
    "builtin_function_or_method",
    "instance",
    "_Feature"
   ],
   "window_display": false
  }
 },
 "nbformat": 4,
 "nbformat_minor": 4
}
